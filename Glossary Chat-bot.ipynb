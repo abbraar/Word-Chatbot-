{
 "cells": [
  {
   "cell_type": "markdown",
   "id": "85d07101",
   "metadata": {},
   "source": [
    "# GLOSSARY CHATBOT"
   ]
  },
  {
   "cell_type": "markdown",
   "id": "770dc2a6",
   "metadata": {},
   "source": [
    "This code is an implementation of a simple chatbot using Python. The chatbot is designed to read information from a Word document, process user input, and provide relevant responses based on pre-defined answers. "
   ]
  },
  {
   "cell_type": "markdown",
   "id": "c40bc6c9",
   "metadata": {},
   "source": [
    "### Importing Important Libraries"
   ]
  },
  {
   "cell_type": "code",
   "execution_count": 1,
   "id": "ceb7a109",
   "metadata": {},
   "outputs": [],
   "source": [
    "#library to load the word document to the code.\n",
    "from docx import Document\n",
    "#library use SequenceMatcher to return list of the best \"good enough\" matches.\n",
    "from difflib import get_close_matches\n",
    "#to perform NLP tasks like intent recognition and entity extraction. \n",
    "import spacy\n",
    "#loads pre-trained models from spaCy that are capable of processing natural language text for various NLP tasks\n",
    "nlp = spacy.load(\"en_core_web_sm\")"
   ]
  },
  {
   "cell_type": "markdown",
   "id": "5c38d0f3",
   "metadata": {},
   "source": [
    "## Functions: "
   ]
  },
  {
   "cell_type": "markdown",
   "id": "5607613e",
   "metadata": {},
   "source": [
    "This function used to extract data from tables in a Word document (.docx file) and convert it into a list of lists."
   ]
  },
  {
   "cell_type": "code",
   "execution_count": 2,
   "id": "db84702d",
   "metadata": {},
   "outputs": [],
   "source": [
    "def read_table_from_docx(file_path):\n",
    "    doc = Document(file_path)\n",
    "    tables = doc.tables\n",
    "    data = []\n",
    "    for table in tables:\n",
    "        for row in table.rows:\n",
    "            row_data = [cell.text.strip() for cell in row.cells]\n",
    "            data.append(row_data)\n",
    "    return data"
   ]
  },
  {
   "cell_type": "markdown",
   "id": "864dc8ae",
   "metadata": {},
   "source": [
    "This function processes the (table_data), which is a list of lists containing table information, and generates a dictionary (chatbot_responses) that maps questions to their corresponding answers."
   ]
  },
  {
   "cell_type": "code",
   "execution_count": 3,
   "id": "09290122",
   "metadata": {},
   "outputs": [],
   "source": [
    "def generate_chatbot_responses(table_data):\n",
    "    chatbot_responses = {}\n",
    "    for row in table_data:\n",
    "        if len(row) >= 2:\n",
    "            question = row[0]\n",
    "            answer = row[1]\n",
    "            chatbot_responses[question.lower()] = answer\n",
    "    return chatbot_responses"
   ]
  },
  {
   "cell_type": "markdown",
   "id": "bea3eff0",
   "metadata": {},
   "source": [
    "#### This function is used to find the keyword in the list of keywords that best matches the input user_input."
   ]
  },
  {
   "cell_type": "markdown",
   "id": "c19ff9cb",
   "metadata": {},
   "source": [
    "It measures the similarity between each word in the user_input and each keyword using the similarity_ratio() function, and then returns the keyword that has the highest similarity with any word in the user input."
   ]
  },
  {
   "cell_type": "code",
   "execution_count": 4,
   "id": "08d8beba",
   "metadata": {},
   "outputs": [],
   "source": [
    "def find_closest_match(user_input, keywords):\n",
    "    user_input_lower = user_input.lower()\n",
    "    words = user_input_lower.split()\n",
    "    best_match = None\n",
    "    max_similarity = 0\n",
    "\n",
    "    for keyword in keywords:\n",
    "        for word in words:\n",
    "            similarity = similarity_ratio(word, keyword)\n",
    "            if similarity > max_similarity:\n",
    "                max_similarity = similarity\n",
    "                best_match = keyword\n",
    "\n",
    "    return best_match"
   ]
  },
  {
   "cell_type": "markdown",
   "id": "93ba590b",
   "metadata": {},
   "source": [
    "#### This function calculates the similarity ratio between two sets of elements s1 and s2. "
   ]
  },
  {
   "cell_type": "markdown",
   "id": "c849efbb",
   "metadata": {},
   "source": [
    "It is used to measure the similarity between two sequences of elements, represented by the sets s1 and s2."
   ]
  },
  {
   "cell_type": "code",
   "execution_count": 5,
   "id": "21d46b47",
   "metadata": {},
   "outputs": [],
   "source": [
    "def similarity_ratio(s1, s2):\n",
    "    s1_words = set(s1)\n",
    "    s2_words = set(s2)\n",
    "    intersection = s1_words.intersection(s2_words)\n",
    "    return len(intersection) / (len(s1_words) + len(s2_words) - len(intersection))"
   ]
  },
  {
   "cell_type": "markdown",
   "id": "5c88f01f",
   "metadata": {},
   "source": [
    "This function is used to find the appropriate answer from the chatbot_responses dictionary based on the user's input user_input. The function searches for the user's input as a question in the keys of the chatbot_responses dictionary, and if a matching question is found, it returns the corresponding answer."
   ]
  },
  {
   "cell_type": "code",
   "execution_count": 6,
   "id": "c4a03226",
   "metadata": {},
   "outputs": [],
   "source": [
    "def find_answer_by_keyword(user_input, chatbot_responses):\n",
    "    user_input_lower = user_input.lower()\n",
    "    for question, answer in chatbot_responses.items():\n",
    "        if question in user_input_lower:\n",
    "            return answer\n",
    "    return None"
   ]
  },
  {
   "cell_type": "markdown",
   "id": "b08c0ad2",
   "metadata": {},
   "source": [
    " This function is used to suggest an alternative question from the chatbot_responses dictionary based on the user's input user_input. If the user input does not exactly match any of the questions in the chatbot_responses dictionary, the function tries to find the closest matching question (keyword) and suggests it as an alternative."
   ]
  },
  {
   "cell_type": "code",
   "execution_count": 7,
   "id": "ef475232",
   "metadata": {},
   "outputs": [],
   "source": [
    "def suggest_alternative(user_input, chatbot_responses):\n",
    "    keywords = chatbot_responses.keys()\n",
    "    closest_match = find_closest_match(user_input, keywords)\n",
    "    return closest_match"
   ]
  },
  {
   "cell_type": "markdown",
   "id": "89dcf93e",
   "metadata": {},
   "source": [
    " This main function allows the chatbot to interact with the user. It prompts the user with a greeting message, listens to the user's input, and provides responses based on the input and the chatbot's pre-defined responses."
   ]
  },
  {
   "cell_type": "code",
   "execution_count": 8,
   "id": "708dba3d",
   "metadata": {},
   "outputs": [],
   "source": [
    "def chat_with_bot(chatbot_responses):\n",
    "    conversation_history = []\n",
    "    print(\"Chatbot: Hi! How Can I Assest You Today?.\")\n",
    "    while True:\n",
    "        user_input = input(\"You: \")\n",
    "        user_input_lower = user_input.lower()\n",
    "        if user_input_lower == \"exit\":\n",
    "            print(\"NGMSA-CC: Goodbye!\")\n",
    "            break\n",
    "        else:\n",
    "            conversation_history.append(user_input)\n",
    "            answer = find_answer_by_keyword(user_input_lower, chatbot_responses)\n",
    "            if answer:\n",
    "                print(\"NGMSA-CC:\", answer)\n",
    "            else:\n",
    "                suggestion = suggest_alternative(user_input_lower, chatbot_responses)\n",
    "                if suggestion:\n",
    "                    print(\"NGMSA-CC: Did you mean:\", suggestion, \"?\")\n",
    "                    user_response = input(\"You: \")\n",
    "                    if user_response.lower() == \"yes\" or user_response.lower() == suggestion :\n",
    "                        conversation_history.append(user_response)\n",
    "                        suggested_answer = chatbot_responses.get(suggestion)\n",
    "                        if suggested_answer:\n",
    "                            print(\"NGMSA-CC:\", suggested_answer)\n",
    "                        else:\n",
    "                            print(\"NGMSA-CC: I'm sorry, I don't have an answer for that question.\")\n",
    "                    else:\n",
    "                        print(\"NGMSA-CC: I'm sorry, I don't have an answer for that question.\")\n",
    "                else:\n",
    "                    #function uses the spaCy library to processes user input and extracts the intent (main verb) and named entities (e.g., names, organizations) from the input.\n",
    "                    intent, entities = process_user_input(user_input)\n",
    "                    handle_intent(intent, entities, chatbot_responses, conversation_history)\n"
   ]
  },
  {
   "cell_type": "markdown",
   "id": "e5055e54",
   "metadata": {},
   "source": [
    "This function to process the user's input using spaCy, an NLP (Natural Language Processing) library. "
   ]
  },
  {
   "cell_type": "code",
   "execution_count": 9,
   "id": "f74f1d68",
   "metadata": {},
   "outputs": [],
   "source": [
    "\n",
    "def process_user_input(user_input):\n",
    "    # Use spaCy to process user input and extract intent and entities\n",
    "    doc = nlp(user_input)\n",
    "    intent = None\n",
    "    entities = {}\n",
    "    for token in doc:\n",
    "        if token.ent_type_:\n",
    "            entities[token.ent_type_] = token.text\n",
    "        if token.pos_ == \"VERB\" and intent is None:\n",
    "            intent = token.text\n",
    "    return intent, entities\n"
   ]
  },
  {
   "cell_type": "markdown",
   "id": "beaa157e",
   "metadata": {},
   "source": [
    "This function responsible for handling user intents and generating responses based on the extracted intent and entities from the user's input. It customizes the chatbot's behavior based on the user's specific intent and named entities."
   ]
  },
  {
   "cell_type": "code",
   "execution_count": 10,
   "id": "a928f26d",
   "metadata": {},
   "outputs": [],
   "source": [
    "\n",
    "def handle_intent(intent, entities, chatbot_responses, conversation_history):\n",
    "    # Implement custom logic to handle user intents and generate responses\n",
    "    if intent == \"ask_about\":\n",
    "        entity = entities.get(\"PERSON\") or entities.get(\"ORG\")\n",
    "        if entity:\n",
    "            # Check if a similar question is already asked in the conversation history\n",
    "            similar_question = find_closest_match(entity.lower(), conversation_history)\n",
    "            if similar_question:\n",
    "                answer = find_answer_by_keyword(similar_question, chatbot_responses)\n",
    "                if answer:\n",
    "                    print(\"NGMSA-CC:\", answer)\n",
    "                else:\n",
    "                    print(\"NGMSA-CC: I'm sorry, I don't have an answer for that question.\")\n",
    "            else:\n",
    "                print(\"NGMSA-CC: I'm sorry, I don't have any information about\", entity)\n",
    "        else:\n",
    "            print(\"NGMSA-CC: I'm sorry, I didn't understand your question.\")\n",
    "    else:\n",
    "        print(\"NGMSA-CC: I'm sorry, I didn't understand your question.\")"
   ]
  },
  {
   "cell_type": "markdown",
   "id": "265766cc",
   "metadata": {},
   "source": [
    "## Functionas Call"
   ]
  },
  {
   "cell_type": "code",
   "execution_count": null,
   "id": "b173d41b",
   "metadata": {},
   "outputs": [
    {
     "name": "stdout",
     "output_type": "stream",
     "text": [
      "Chatbot: Hi! How Can I Assest You Today?.\n",
      "You: cmc\n",
      "NGMSA-CC: Did you mean: cms ?\n",
      "You: yes\n",
      "NGMSA-CC: Central monitoring site\n",
      "You: what cms\n",
      "NGMSA-CC: Central monitoring site\n",
      "You: 3world\n",
      "NGMSA-CC: Did you mean: 3d world ?\n",
      "You: yes\n",
      "NGMSA-CC: Set 3D models containing site topology including security devices (Access control, cameras, etc).\n"
     ]
    }
   ],
   "source": [
    "\n",
    "\n",
    "if __name__ == \"__main__\":\n",
    "    # Step 1: Replace 'your_document.docx' with the actual path to your Word document\n",
    "    docx_file = \"cc.docx\"\n",
    "\n",
    "    # Step 2: Read the Word document and extract table data\n",
    "    table_data = read_table_from_docx(docx_file)\n",
    "\n",
    "    # Step 3: Process the table data and generate chatbot responses\n",
    "    chatbot_responses = generate_chatbot_responses(table_data)\n",
    "\n",
    "    # Step 4: Chat with the bot\n",
    "    chat_with_bot(chatbot_responses)\n"
   ]
  },
  {
   "cell_type": "markdown",
   "id": "81bc6d99",
   "metadata": {},
   "source": [
    "In summary, this code implements a simple chatbot that reads information from a Word document, processes user input, and generates responses based on pre-defined answers. It uses spaCy for NLP tasks like intent recognition and entity extraction and allows users to interact with the chatbot in a conversation-like manner."
   ]
  }
 ],
 "metadata": {
  "kernelspec": {
   "display_name": "Python 3 (ipykernel)",
   "language": "python",
   "name": "python3"
  },
  "language_info": {
   "codemirror_mode": {
    "name": "ipython",
    "version": 3
   },
   "file_extension": ".py",
   "mimetype": "text/x-python",
   "name": "python",
   "nbconvert_exporter": "python",
   "pygments_lexer": "ipython3",
   "version": "3.9.12"
  }
 },
 "nbformat": 4,
 "nbformat_minor": 5
}
